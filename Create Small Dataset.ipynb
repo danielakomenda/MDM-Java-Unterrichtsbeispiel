{
 "cells": [
  {
   "cell_type": "code",
   "execution_count": 1,
   "id": "bd5da128-dc86-4e77-a588-35ca69be5702",
   "metadata": {},
   "outputs": [],
   "source": [
    "import shutil\n",
    "import random\n",
    "from pathlib import Path"
   ]
  },
  {
   "cell_type": "code",
   "execution_count": 2,
   "id": "6a7562f2-1026-4b59-ac2c-e118d6a6e762",
   "metadata": {},
   "outputs": [],
   "source": [
    "source_folder = Path(\"ut-zap50k-images-square\").resolve()\n",
    "target_folder = Path(\"ut-zap50k-images-square-small\").resolve()\n",
    "image_limit_per_shoe_type = 1000"
   ]
  },
  {
   "cell_type": "code",
   "execution_count": 4,
   "id": "ede5198b-7782-425d-b0c6-996dc96ae958",
   "metadata": {},
   "outputs": [],
   "source": [
    "for folder in source_folder.iterdir():\n",
    "    if not folder.is_dir():\n",
    "        continue\n",
    "    if folder.name.startswith(\".\"):\n",
    "        continue\n",
    "    \n",
    "    src = [x for x in folder.glob('**/*.jpg') if x.is_file()]\n",
    "    dst_folder = target_folder / folder.name\n",
    "    dst_folder.mkdir(parents=False, exist_ok=True)\n",
    "    for f in random.sample(src, 1000):  \n",
    "        dst = dst_folder / f.name\n",
    "        shutil.copy(f, dst)"
   ]
  },
  {
   "cell_type": "code",
   "execution_count": null,
   "id": "216e368f-a6c5-4bec-999e-36abeaf8d680",
   "metadata": {},
   "outputs": [],
   "source": []
  },
  {
   "cell_type": "code",
   "execution_count": null,
   "id": "ef9a4638-efa7-4a89-8d0f-ae93a32d4966",
   "metadata": {},
   "outputs": [],
   "source": []
  }
 ],
 "metadata": {
  "kernelspec": {
   "display_name": "Python 3 (ipykernel)",
   "language": "python",
   "name": "python3"
  },
  "language_info": {
   "codemirror_mode": {
    "name": "ipython",
    "version": 3
   },
   "file_extension": ".py",
   "mimetype": "text/x-python",
   "name": "python",
   "nbconvert_exporter": "python",
   "pygments_lexer": "ipython3",
   "version": "3.11.4"
  }
 },
 "nbformat": 4,
 "nbformat_minor": 5
}
